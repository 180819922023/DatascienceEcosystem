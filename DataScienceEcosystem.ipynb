{
 "cells": [
  {
   "cell_type": "markdown",
   "id": "f3379e71",
   "metadata": {},
   "source": [
    "# Data Science Tools and Ecosystem"
   ]
  },
  {
   "cell_type": "markdown",
   "id": "9a8c3d3e",
   "metadata": {},
   "source": [
    "# In this notebook, Data Science Tools and Ecosystem are summarized."
   ]
  },
  {
   "cell_type": "markdown",
   "id": "c99aebaa",
   "metadata": {},
   "source": [
    "## Objectives\n",
    "1. List the popular languages that Data scientists use\n",
    "2. List the commonly used libraries\n",
    "3. List the Data tools"
   ]
  },
  {
   "cell_type": "markdown",
   "id": "6e08b652",
   "metadata": {},
   "source": [
    "# Some of the popular languages that Data Scientists use are:\n",
    "\n"
   ]
  },
  {
   "cell_type": "markdown",
   "id": "6ae13f10",
   "metadata": {},
   "source": [
    "1. Python \n",
    "2. R\n",
    "3. SQl"
   ]
  },
  {
   "cell_type": "markdown",
   "id": "7947ceff",
   "metadata": {},
   "source": [
    "# Some of the commonly used libraries used by Data Scientists include:\n"
   ]
  },
  {
   "cell_type": "markdown",
   "id": "35791104",
   "metadata": {},
   "source": [
    "1. Pandas\n",
    "2. Numpy\n",
    "3. Scikit-learn \n",
    "4. Pytorch"
   ]
  },
  {
   "cell_type": "markdown",
   "id": "d739f406",
   "metadata": {},
   "source": [
    "# Data Science Tools"
   ]
  },
  {
   "cell_type": "markdown",
   "id": "c168b618",
   "metadata": {},
   "source": [
    "| Data Science Tools|\n",
    "|-------------------|\n",
    "| Jupyter notebook|\n",
    "|Watson studio desktop|\n",
    "|Rstusio|"
   ]
  },
  {
   "cell_type": "markdown",
   "id": "5c4a4639",
   "metadata": {},
   "source": [
    "### Below are a few examples of evaluating arithmetic expressions in Python"
   ]
  },
  {
   "cell_type": "code",
   "execution_count": 10,
   "id": "0e6ce793",
   "metadata": {},
   "outputs": [
    {
     "name": "stdout",
     "output_type": "stream",
     "text": [
      "4\n",
      "0.625\n",
      "35\n",
      "140.0\n"
     ]
    }
   ],
   "source": [
    "a = 2 + 2 \n",
    "b= 5/8\n",
    "c=89-54\n",
    "d=56*2.5\n",
    "print(a)\n",
    "print(b)\n",
    "print(c)\n",
    "print(d)"
   ]
  },
  {
   "cell_type": "code",
   "execution_count": 8,
   "id": "22195d34",
   "metadata": {},
   "outputs": [
    {
     "data": {
      "text/plain": [
       "17"
      ]
     },
     "execution_count": 8,
     "metadata": {},
     "output_type": "execute_result"
    }
   ],
   "source": [
    "k= (3*4)+5\n",
    "k"
   ]
  },
  {
   "cell_type": "code",
   "execution_count": 9,
   "id": "29d2d487",
   "metadata": {},
   "outputs": [
    {
     "data": {
      "text/plain": [
       "3.3333333333333335"
      ]
     },
     "execution_count": 9,
     "metadata": {},
     "output_type": "execute_result"
    }
   ],
   "source": [
    "k= 200 / 60 #This will convert 200 minutes to hours by diving by 60\n",
    "k"
   ]
  },
  {
   "cell_type": "markdown",
   "id": "b55efe44",
   "metadata": {},
   "source": [
    "## Author \n",
    "Emmanuel NTUMBA DITUNGA"
   ]
  },
  {
   "cell_type": "code",
   "execution_count": null,
   "id": "e0befc9e",
   "metadata": {},
   "outputs": [],
   "source": []
  }
 ],
 "metadata": {
  "kernelspec": {
   "display_name": "Python 3 (ipykernel)",
   "language": "python",
   "name": "python3"
  },
  "language_info": {
   "codemirror_mode": {
    "name": "ipython",
    "version": 3
   },
   "file_extension": ".py",
   "mimetype": "text/x-python",
   "name": "python",
   "nbconvert_exporter": "python",
   "pygments_lexer": "ipython3",
   "version": "3.10.9"
  }
 },
 "nbformat": 4,
 "nbformat_minor": 5
}
